{
 "cells": [
  {
   "cell_type": "code",
   "execution_count": 1,
   "metadata": {},
   "outputs": [],
   "source": [
    "import pandas as pd\n",
    "import requests\n",
    "api_key = 'YOUR_API_KEY'\n",
    "\n",
    "\n"
   ]
  },
  {
   "cell_type": "code",
   "execution_count": 2,
   "metadata": {},
   "outputs": [],
   "source": [
    "def get_distance (destination):\n",
    "    base_url = 'https://maps.googleapis.com/maps/api/distancematrix/json?'\n",
    "    origin = 'Tel Aviv'\n",
    "    url = f'{base_url}origins={origin}&destinations={destination}&key={api_key}'\n",
    "    response = requests.get(url)\n",
    "    data = response.json()\n",
    "    distance = data['rows'][0]['elements'][0]['distance']['text']\n",
    "    return distance"
   ]
  },
  {
   "cell_type": "code",
   "execution_count": 3,
   "metadata": {},
   "outputs": [],
   "source": [
    "def get_duration (destination):\n",
    "    base_url = 'https://maps.googleapis.com/maps/api/distancematrix/json?'\n",
    "    origin = 'Tel Aviv'\n",
    "    url = f'{base_url}origins={origin}&destinations={destination}&key={api_key}'\n",
    "    response = requests.get(url)\n",
    "    data = response.json()\n",
    "    duration = data['rows'][0]['elements'][0]['duration']['value'] // 60\n",
    "    return duration\n",
    "\n",
    "\n",
    "    "
   ]
  },
  {
   "cell_type": "code",
   "execution_count": 4,
   "metadata": {},
   "outputs": [],
   "source": [
    "def get_longitude (destination):\n",
    "    base_url = 'https://maps.googleapis.com/maps/api/geocode/json?'\n",
    "    url = f'{base_url}address={destination}&key={api_key}'\n",
    "    response = requests.get(url)\n",
    "    data = response.json()\n",
    "    longitude = data['results'][0]['geometry']['location']['lng']\n",
    "    return longitude\n"
   ]
  },
  {
   "cell_type": "code",
   "execution_count": 5,
   "metadata": {},
   "outputs": [],
   "source": [
    "def get_latitude (destination):\n",
    "    base_url = 'https://maps.googleapis.com/maps/api/geocode/json?'\n",
    "    url = f'{base_url}address={destination}&key={api_key}'\n",
    "    response = requests.get(url)\n",
    "    data = response.json()\n",
    "    latitude = data['results'][0]['geometry']['location']['lat']\n",
    "    return latitude"
   ]
  },
  {
   "cell_type": "code",
   "execution_count": 11,
   "metadata": {},
   "outputs": [
    {
     "data": {
      "text/html": [
       "<div>\n",
       "<style scoped>\n",
       "    .dataframe tbody tr th:only-of-type {\n",
       "        vertical-align: middle;\n",
       "    }\n",
       "\n",
       "    .dataframe tbody tr th {\n",
       "        vertical-align: top;\n",
       "    }\n",
       "\n",
       "    .dataframe thead th {\n",
       "        text-align: right;\n",
       "    }\n",
       "</style>\n",
       "<table border=\"1\" class=\"dataframe\">\n",
       "  <thead>\n",
       "    <tr style=\"text-align: right;\">\n",
       "      <th></th>\n",
       "      <th>Target</th>\n",
       "      <th>Distance_km</th>\n",
       "      <th>Duration (hour+minutes)</th>\n",
       "      <th>Longitude</th>\n",
       "      <th>latitude</th>\n",
       "    </tr>\n",
       "  </thead>\n",
       "  <tbody>\n",
       "    <tr>\n",
       "      <th>0</th>\n",
       "      <td>Istanbul</td>\n",
       "      <td>1,815 km</td>\n",
       "      <td>21 hours 2 minutes</td>\n",
       "      <td>28.978359</td>\n",
       "      <td>41.008238</td>\n",
       "    </tr>\n",
       "    <tr>\n",
       "      <th>1</th>\n",
       "      <td>Amsterdam</td>\n",
       "      <td>4,533 km</td>\n",
       "      <td>48 hours 3 minutes</td>\n",
       "      <td>4.904139</td>\n",
       "      <td>52.367573</td>\n",
       "    </tr>\n",
       "    <tr>\n",
       "      <th>2</th>\n",
       "      <td>Valletta</td>\n",
       "      <td>3,793 km</td>\n",
       "      <td>50 hours 50 minutes</td>\n",
       "      <td>14.514100</td>\n",
       "      <td>35.899237</td>\n",
       "    </tr>\n",
       "    <tr>\n",
       "      <th>3</th>\n",
       "      <td>Basel</td>\n",
       "      <td>4,093 km</td>\n",
       "      <td>44 hours 2 minutes</td>\n",
       "      <td>7.588576</td>\n",
       "      <td>47.559599</td>\n",
       "    </tr>\n",
       "    <tr>\n",
       "      <th>4</th>\n",
       "      <td>Doha</td>\n",
       "      <td>2,164 km</td>\n",
       "      <td>22 hours 38 minutes</td>\n",
       "      <td>51.531040</td>\n",
       "      <td>25.285447</td>\n",
       "    </tr>\n",
       "  </tbody>\n",
       "</table>\n",
       "</div>"
      ],
      "text/plain": [
       "      Target Distance_km Duration (hour+minutes)  Longitude   latitude\n",
       "0   Istanbul    1,815 km      21 hours 2 minutes  28.978359  41.008238\n",
       "1  Amsterdam    4,533 km      48 hours 3 minutes   4.904139  52.367573\n",
       "2   Valletta    3,793 km     50 hours 50 minutes  14.514100  35.899237\n",
       "3      Basel    4,093 km      44 hours 2 minutes   7.588576  47.559599\n",
       "4       Doha    2,164 km     22 hours 38 minutes  51.531040  25.285447"
      ]
     },
     "execution_count": 11,
     "metadata": {},
     "output_type": "execute_result"
    }
   ],
   "source": [
    "with open('dests.txt', 'r') as dests:\n",
    "    target = dests.read()\n",
    "dict = {'Target' : target.split('\\n')}  \n",
    "df =  pd.DataFrame(dict)\n",
    "df['Distance_km'] = df['Target'].apply(lambda x: (get_distance(x)))\n",
    "time = pd.DataFrame()\n",
    "time['Duration (minutes)'] = df['Target'].apply(lambda x: get_duration(x))\n",
    "time['Duration (hours)'] = time['Duration (minutes)'] // 60\n",
    "time['Duration (minutes)'] = time['Duration (minutes)'] % 60\n",
    "time['Duration (hour+minutes)'] = time.apply(lambda row: f\"{row['Duration (hours)']} hours {row['Duration (minutes)']} minutes\", axis=1)\n",
    "df['Duration (hour+minutes)'] = time['Duration (hour+minutes)']\n",
    "df['Longitude'] = df['Target'].apply(lambda x: (get_longitude(x)))\n",
    "df['latitude'] = df['Target'].apply(lambda x: (get_latitude(x)))\n",
    "df"
   ]
  },
  {
   "cell_type": "code",
   "execution_count": 12,
   "metadata": {},
   "outputs": [
    {
     "data": {
      "text/plain": [
       "1    Amsterdam\n",
       "3        Basel\n",
       "2     Valletta\n",
       "Name: Target, dtype: object"
      ]
     },
     "execution_count": 12,
     "metadata": {},
     "output_type": "execute_result"
    }
   ],
   "source": [
    "the_furthest = df.sort_values(by='Distance_km', ascending=False).head(3)\n",
    "the_furthest['Target']"
   ]
  }
 ],
 "metadata": {
  "kernelspec": {
   "display_name": "Python 3",
   "language": "python",
   "name": "python3"
  },
  "language_info": {
   "codemirror_mode": {
    "name": "ipython",
    "version": 3
   },
   "file_extension": ".py",
   "mimetype": "text/x-python",
   "name": "python",
   "nbconvert_exporter": "python",
   "pygments_lexer": "ipython3",
   "version": "3.11.3"
  },
  "orig_nbformat": 4
 },
 "nbformat": 4,
 "nbformat_minor": 2
}
